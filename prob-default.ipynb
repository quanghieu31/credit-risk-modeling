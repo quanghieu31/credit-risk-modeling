{
 "cells": [
  {
   "cell_type": "markdown",
   "metadata": {},
   "source": [
    "# <center> Credit Risk Modeling <center> #\n",
    "<center> Hieu Nguyen <center>"
   ]
  },
  {
   "cell_type": "markdown",
   "metadata": {},
   "source": [
    "<div class=\"alert alert-block alert-info\">\n",
    "The project focuses on the probability of loan defaults in the banking industry. It is my practice regarding a predictive probablity-related problem using some machine learning models. There are three main credit risk models on theory (exposure at default, probability of default, and loss given default). In my analysis, I will focus solely on the probability of default. <br> <br> The goal is to build/review some models that lenders can use to help make the best financial decisions on dealing with high-risk borrowers. In particularly, I will try to predict the probability that somebody will experience financial distress in the next two years. <br><br> Later, I will compare these models with non-ML models (hopefully I have the time and effort)\n",
    "</div>"
   ]
  },
  {
   "cell_type": "markdown",
   "metadata": {},
   "source": [
    "Content: <br>\n",
    "* Libraries\n",
    "* Description of data and data processing/cleaning\n",
    "* Exploratory data analysis\n",
    "* Oversampling\n",
    "* Data evaluation (correlation matrix)\n",
    "* Modeling\n",
    "    * K-Means\n",
    "    * Logistics regression\n",
    "    * Random forest\n",
    "    * Gradient boosting\n",
    "* Model performance\n",
    "    * Confusion matrix\n",
    "    * Accuracy\n",
    "    * Precision, recall, and F-measure\n",
    "    * Receiver Operating Characteristics Curve (ROC), Precision-Recall Curve, and AUC\n",
    "* Post analysis\n",
    "    * Feature analysis\n",
    "    * Model analysis and discussion\n"
   ]
  },
  {
   "cell_type": "markdown",
   "metadata": {},
   "source": [
    "## Libraries"
   ]
  },
  {
   "cell_type": "code",
   "execution_count": null,
   "metadata": {},
   "outputs": [],
   "source": []
  },
  {
   "cell_type": "markdown",
   "metadata": {},
   "source": [
    "## Description of data ##"
   ]
  },
  {
   "cell_type": "markdown",
   "metadata": {},
   "source": [
    "The four used datasets were from: https://www.kaggle.com/competitions/GiveMeSomeCredit/data. <br>\n",
    "* Data dictionary (xls)\n",
    "* Credit score training data (csv)\n",
    "* Credit score test data (csv)\n",
    "* Sample entry (?) (csv) \n",
    "\n",
    "\n",
    "I downloaded all of these data and uploaded to my github. "
   ]
  },
  {
   "cell_type": "code",
   "execution_count": null,
   "metadata": {},
   "outputs": [],
   "source": []
  }
 ],
 "metadata": {
  "kernelspec": {
   "display_name": "Python 3.10.5 64-bit",
   "language": "python",
   "name": "python3"
  },
  "language_info": {
   "codemirror_mode": {
    "name": "ipython",
    "version": 3
   },
   "file_extension": ".py",
   "mimetype": "text/x-python",
   "name": "python",
   "nbconvert_exporter": "python",
   "pygments_lexer": "ipython3",
   "version": "3.10.5"
  },
  "vscode": {
   "interpreter": {
    "hash": "46f20f3b44f9389f7c88e68bc6b7ecea9a3fc1fb04e5efe60c095d587fab0628"
   }
  }
 },
 "nbformat": 4,
 "nbformat_minor": 2
}
